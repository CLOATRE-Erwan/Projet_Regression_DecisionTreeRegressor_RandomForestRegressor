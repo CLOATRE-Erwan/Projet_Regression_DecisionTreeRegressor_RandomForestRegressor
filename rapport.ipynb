{
 "cells": [
  {
   "cell_type": "markdown",
   "metadata": {},
   "source": [
    "# Rapport"
   ]
  },
  {
   "cell_type": "markdown",
   "metadata": {},
   "source": [
    "## Résumé sur le principe\n",
    "\n",
    "### Decision Tree\n",
    "\n",
    "Un arbre de décision est un outil d'aide à la décision représentant un ensemble de choix sous la forme graphique d'un arbre. Les différentes décisions possibles sont situées aux extrémités des branches (les « feuilles » de l'arbre), et sont atteintes en fonction de décisions prises à chaque étape.\n",
    "\n",
    "\n",
    "### Random Decision Forest\n",
    "\n",
    "L'algorithme des forêts d'arbres décisionnels effectue un apprentissage sur de multiples arbres de décision entraînés sur des sous-ensembles de données légèrement différents."
   ]
  },
  {
   "cell_type": "markdown",
   "metadata": {},
   "source": [
    "## 1.2 Information sur les données\n",
    "\n",
    "### 1\n",
    "\n",
    "Sachant que la valeur cible est \"median_house_value\", traitons-nous un problème de classification ou de régression ?\n",
    "\n",
    "Ici il s'agit d'un problème de régression car \"median_house_value\" sont des chiffres.\n",
    "\n",
    "### 2 \n",
    "\n",
    "Quelle remarque sur l’attribut \"total_bedrooms\" par rapport aux autres attributs ?\n",
    "\n",
    "\"total_bedrooms\" possède moins de valeurs non-null ques les autre, ce qui signifit qu'il y a des valeurs null dans \"total_bedrooms\"\n",
    "il faudra donc les retire/remplacer pour pouvoir utiliser le jeu de donnée"
   ]
  },
  {
   "cell_type": "markdown",
   "metadata": {},
   "source": [
    "## 1.4 Découverte et visualisation des données\n",
    "\n",
    "### 4\n",
    "\n",
    "Créez un code qui affiche, en valeur, la corrélation de l’attribut \"median_house_value\" avec les autres attributs. Qu’est ce que vous remarquez ?\n",
    "\n",
    "Quil existe plusieur corréllation dans le jeu de donnée\n",
    "\n",
    "![california whit house](images/california_house.png)\n",
    "\n",
    "et grace a cette figure on peut voir que plus on se rapproche de la cote et des grande ville et plus \"median_house_value\" augmante"
   ]
  },
  {
   "cell_type": "markdown",
   "metadata": {},
   "source": [
    "## 2 Sélection, apprentissage et évaluation du modèle"
   ]
  },
  {
   "cell_type": "markdown",
   "metadata": {},
   "source": [
    "### 6"
   ]
  },
  {
   "cell_type": "markdown",
   "metadata": {},
   "source": [
    "Suivre les étapes de la question précédente sur le modèle de la régression linéaire. Ensuite,\n",
    "comparez les résultats avec ceux du DecisionTreeRegressor. Quel modèle présente un problème d’apprentissage ? pourquoi ?\n",
    "\n",
    "mes deux modèle possèdent a quel chose près les memes valeurs pour les rmse et les cross validation, donc je ne sais pas"
   ]
  }
 ],
 "metadata": {
  "kernelspec": {
   "display_name": "Python 3",
   "language": "python",
   "name": "python3"
  },
  "language_info": {
   "codemirror_mode": {
    "name": "ipython",
    "version": 3
   },
   "file_extension": ".py",
   "mimetype": "text/x-python",
   "name": "python",
   "nbconvert_exporter": "python",
   "pygments_lexer": "ipython3",
   "version": "3.8.3"
  }
 },
 "nbformat": 4,
 "nbformat_minor": 4
}
